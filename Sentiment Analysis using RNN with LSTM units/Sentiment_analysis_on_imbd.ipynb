{
  "nbformat": 4,
  "nbformat_minor": 0,
  "metadata": {
    "colab": {
      "name": "Sentiment analysis on imbd.ipynb",
      "provenance": [],
      "collapsed_sections": []
    },
    "kernelspec": {
      "name": "python3",
      "display_name": "Python 3"
    }
  },
  "cells": [
    {
      "cell_type": "code",
      "metadata": {
        "id": "RFu15UQyM-qK"
      },
      "source": [
        "import tensorflow as tf\n",
        "from tensorflow.keras.preprocessing.text import Tokenizer\n",
        "from tensorflow.keras.preprocessing.sequence import pad_sequences"
      ],
      "execution_count": null,
      "outputs": []
    },
    {
      "cell_type": "code",
      "metadata": {
        "id": "bt06vOFCNOuH"
      },
      "source": [
        "import pandas as pd\n",
        "import numpy as np\n",
        "import matplotlib.pyplot as plt\n",
        "%matplotlib inline "
      ],
      "execution_count": null,
      "outputs": []
    },
    {
      "cell_type": "code",
      "metadata": {
        "id": "RkP1Kzj-NRaJ",
        "outputId": "0f1be01c-10bb-493a-82be-a5f866263946",
        "colab": {
          "base_uri": "https://localhost:8080/"
        }
      },
      "source": [
        "from google.colab import drive\n",
        "drive.mount('/content/drive')"
      ],
      "execution_count": null,
      "outputs": [
        {
          "output_type": "stream",
          "text": [
            "Drive already mounted at /content/drive; to attempt to forcibly remount, call drive.mount(\"/content/drive\", force_remount=True).\n"
          ],
          "name": "stdout"
        }
      ]
    },
    {
      "cell_type": "code",
      "metadata": {
        "id": "Ha482ekWNTZF",
        "outputId": "49f4f0a3-5fe8-487c-ee35-e6c802a3ec9c",
        "colab": {
          "base_uri": "https://localhost:8080/"
        }
      },
      "source": [
        "!ls \"/content/drive/My Drive/Dataset\""
      ],
      "execution_count": null,
      "outputs": [
        {
          "output_type": "stream",
          "text": [
            "imdb_label.csv\timdb_tr.csv  Test.csv  Train.csv\n",
            "imdb_text.csv\tlabel.txt    Test.txt  Valid.txt\n"
          ],
          "name": "stdout"
        }
      ]
    },
    {
      "cell_type": "code",
      "metadata": {
        "id": "gibxUZZONVEV"
      },
      "source": [
        "ds = pd.read_csv('/content/drive/My Drive/Dataset/Train.csv', encoding='latin-1')"
      ],
      "execution_count": null,
      "outputs": []
    },
    {
      "cell_type": "code",
      "metadata": {
        "id": "OTqXyxddQO63"
      },
      "source": [
        "ds_test = pd.read_csv('/content/drive/My Drive/Dataset/Test.csv', encoding='latin-1')"
      ],
      "execution_count": null,
      "outputs": []
    },
    {
      "cell_type": "code",
      "metadata": {
        "id": "-2Cfk63vNcO3"
      },
      "source": [
        "ds"
      ],
      "execution_count": null,
      "outputs": []
    },
    {
      "cell_type": "code",
      "metadata": {
        "id": "JvdQqheeUWXI"
      },
      "source": [
        "ds_test"
      ],
      "execution_count": null,
      "outputs": []
    },
    {
      "cell_type": "code",
      "metadata": {
        "id": "ndlzkBr7mMAY"
      },
      "source": [
        "%%capture\n",
        "import tensorflow_datasets as tfds\n",
        "imdb, info = tfds.load(\"imdb_reviews\", with_info=True, as_supervised=True)"
      ],
      "execution_count": null,
      "outputs": []
    },
    {
      "cell_type": "code",
      "metadata": {
        "id": "3ah8VLeTF1MQ"
      },
      "source": [
        "labels = ds['label']"
      ],
      "execution_count": null,
      "outputs": []
    },
    {
      "cell_type": "code",
      "metadata": {
        "id": "vAGeX8GsGhow"
      },
      "source": [
        "encoded_labels = np.array(labels)"
      ],
      "execution_count": null,
      "outputs": []
    },
    {
      "cell_type": "code",
      "metadata": {
        "id": "53_A8KTWmSGF"
      },
      "source": [
        "train_data, test_data = imdb['train'], imdb['test']"
      ],
      "execution_count": null,
      "outputs": []
    },
    {
      "cell_type": "code",
      "metadata": {
        "id": "hbC0DfOcNcqC"
      },
      "source": [
        "sentences = ds['ï»¿text'].tolist()"
      ],
      "execution_count": null,
      "outputs": []
    },
    {
      "cell_type": "code",
      "metadata": {
        "id": "11t51cPjNi33"
      },
      "source": [
        "sentences"
      ],
      "execution_count": null,
      "outputs": []
    },
    {
      "cell_type": "code",
      "metadata": {
        "id": "pv2TybIKmVdU"
      },
      "source": [
        "training_sentences = []\n",
        "training_labels = []"
      ],
      "execution_count": null,
      "outputs": []
    },
    {
      "cell_type": "code",
      "metadata": {
        "id": "BN1_gkBhmZFw"
      },
      "source": [
        "testing_sentences = []\n",
        "testing_labels = []"
      ],
      "execution_count": null,
      "outputs": []
    },
    {
      "cell_type": "code",
      "metadata": {
        "id": "lvTVPvnoqQxT"
      },
      "source": [
        "ds = ds.dropna()"
      ],
      "execution_count": null,
      "outputs": []
    },
    {
      "cell_type": "code",
      "metadata": {
        "id": "mLCzuj2PqwW_"
      },
      "source": [
        "ds_test = ds_test.dropna()"
      ],
      "execution_count": null,
      "outputs": []
    },
    {
      "cell_type": "code",
      "metadata": {
        "id": "PtYSoSPGNkWd"
      },
      "source": [
        "%%script false\n",
        "tokenizer = Tokenizer(num_words = 10000, oov_token=\"<OOV>\")\n",
        "tokenizer.fit_on_texts(sentences)\n",
        "word_index = tokenizer.word_index\n",
        "sequences = tokenizer.texts_to_sequences(sentences)\n",
        "padded1 = pad_sequences(sequences, padding='post', maxlen=100)\n",
        "print(word_index)"
      ],
      "execution_count": null,
      "outputs": []
    },
    {
      "cell_type": "code",
      "metadata": {
        "id": "0WKeUIt6mczg"
      },
      "source": [
        "for s,l in train_data:\n",
        "  training_sentences.append(str(s.numpy()))\n",
        "  training_labels.append(l.numpy())"
      ],
      "execution_count": null,
      "outputs": []
    },
    {
      "cell_type": "code",
      "metadata": {
        "id": "cc2fT2NNmgJh"
      },
      "source": [
        "for s,l in test_data:\n",
        "  testing_sentences.append(str(s.numpy()))\n",
        "  testing_labels.append(l.numpy())"
      ],
      "execution_count": null,
      "outputs": []
    },
    {
      "cell_type": "code",
      "metadata": {
        "id": "eRNwGhqcUXe0"
      },
      "source": [
        "sentences_test = ds_test['ï»¿text'].tolist()"
      ],
      "execution_count": null,
      "outputs": []
    },
    {
      "cell_type": "code",
      "metadata": {
        "id": "TbXTTg_oUeX5"
      },
      "source": [
        "sentences_test"
      ],
      "execution_count": null,
      "outputs": []
    },
    {
      "cell_type": "code",
      "metadata": {
        "id": "3nirAH8JUfi3"
      },
      "source": [
        "%%script false\n",
        "test_seq = tokenizer.texts_to_sequences(sentences_test)\n",
        "test_padded = pad_sequences(test_seq, maxlen=100)"
      ],
      "execution_count": null,
      "outputs": []
    },
    {
      "cell_type": "code",
      "metadata": {
        "id": "ojKBl6Dmmlra"
      },
      "source": [
        "training_labels_final = np.array(training_labels)\n",
        "testing_labels_final = np.array(testing_labels)"
      ],
      "execution_count": null,
      "outputs": []
    },
    {
      "cell_type": "code",
      "metadata": {
        "id": "5ROfgbmovylo"
      },
      "source": [
        "train_dataset = ds['ï»¿text']"
      ],
      "execution_count": null,
      "outputs": []
    },
    {
      "cell_type": "code",
      "metadata": {
        "id": "xhI0pJnM6JYb"
      },
      "source": [
        "test_dataset = ds_test['ï»¿text']"
      ],
      "execution_count": null,
      "outputs": []
    },
    {
      "cell_type": "code",
      "metadata": {
        "id": "ZGlXbqgSMCiA"
      },
      "source": [
        "X_valid, y_valid = ds['ï»¿text'[:64]], ds['label'[:64]]"
      ],
      "execution_count": null,
      "outputs": []
    },
    {
      "cell_type": "code",
      "metadata": {
        "id": "q2UMCWKC4iND"
      },
      "source": [
        "encoded_labels.shape"
      ],
      "execution_count": null,
      "outputs": []
    },
    {
      "cell_type": "code",
      "metadata": {
        "id": "Sa4CC13wmsnX"
      },
      "source": [
        "vocab_size = 10000\n",
        "max_length = 100\n",
        "trunc_type='post'\n",
        "oov_tok = \"<OOV>\""
      ],
      "execution_count": null,
      "outputs": []
    },
    {
      "cell_type": "code",
      "metadata": {
        "id": "i3v62syWm0xr"
      },
      "source": [
        "tokenizer = Tokenizer(num_words = vocab_size, oov_token=oov_tok)\n",
        "tokenizer.fit_on_texts(training_sentences)\n",
        "word_index = tokenizer.word_index\n",
        "sequences = tokenizer.texts_to_sequences(training_sentences)\n",
        "padded = pad_sequences(sequences,maxlen=max_length, truncating=trunc_type)"
      ],
      "execution_count": null,
      "outputs": []
    },
    {
      "cell_type": "code",
      "metadata": {
        "id": "7jFFdTEJq_Lc"
      },
      "source": [
        "testing_sequences = tokenizer.texts_to_sequences(testing_sentences)\n",
        "testing_padded = pad_sequences(testing_sequences,maxlen=max_length)"
      ],
      "execution_count": null,
      "outputs": []
    },
    {
      "cell_type": "code",
      "metadata": {
        "id": "ZXI8bvnWm6BS"
      },
      "source": [
        "reverse_word_index = dict([(value, key) for (key, value) in word_index.items()])\n",
        "\n",
        "def decode_review(text):\n",
        "    return ' '.join([reverse_word_index.get(i, '?') for i in text])"
      ],
      "execution_count": null,
      "outputs": []
    },
    {
      "cell_type": "code",
      "metadata": {
        "id": "5fjEzeVTTfWb"
      },
      "source": [
        "opt = tf.keras.optimizers.Adam(learning_rate=1e-3, decay=1e-5)"
      ],
      "execution_count": null,
      "outputs": []
    },
    {
      "cell_type": "code",
      "metadata": {
        "id": "a0pQJBXHH2Zh",
        "outputId": "b3c90a2f-b6ef-47b2-b54c-baaf23d30f6d",
        "colab": {
          "base_uri": "https://localhost:8080/"
        }
      },
      "source": [
        "embedding_dim = 12\n",
        "\n",
        "model = tf.keras.Sequential([\n",
        "    tf.keras.layers.Embedding(vocab_size, embedding_dim, input_length=max_length),\n",
        "    tf.keras.layers.Bidirectional(tf.keras.layers.LSTM(64, return_sequences=True)),\n",
        "    tf.keras.layers.Bidirectional(tf.keras.layers.LSTM(32)),\n",
        "    tf.keras.layers.Dense(64, activation='relu'),\n",
        "    tf.keras.layers.Dense(1, activation='sigmoid')\n",
        "])\n",
        "model.compile(loss='binary_crossentropy',optimizer='adam',metrics=['accuracy'])\n",
        "model.summary()"
      ],
      "execution_count": null,
      "outputs": [
        {
          "output_type": "stream",
          "text": [
            "Model: \"sequential_3\"\n",
            "_________________________________________________________________\n",
            "Layer (type)                 Output Shape              Param #   \n",
            "=================================================================\n",
            "embedding_3 (Embedding)      (None, 100, 12)           120000    \n",
            "_________________________________________________________________\n",
            "bidirectional_6 (Bidirection (None, 100, 128)          39424     \n",
            "_________________________________________________________________\n",
            "bidirectional_7 (Bidirection (None, 64)                41216     \n",
            "_________________________________________________________________\n",
            "dense_6 (Dense)              (None, 64)                4160      \n",
            "_________________________________________________________________\n",
            "dense_7 (Dense)              (None, 1)                 65        \n",
            "=================================================================\n",
            "Total params: 204,865\n",
            "Trainable params: 204,865\n",
            "Non-trainable params: 0\n",
            "_________________________________________________________________\n"
          ],
          "name": "stdout"
        }
      ]
    },
    {
      "cell_type": "code",
      "metadata": {
        "id": "2daI3MwEJM13"
      },
      "source": [
        "#padded = padded/255.0"
      ],
      "execution_count": null,
      "outputs": []
    },
    {
      "cell_type": "code",
      "metadata": {
        "id": "iPdLsl5pcGt7",
        "outputId": "63f3da70-264c-4724-fe7e-e801ab2bb170",
        "colab": {
          "base_uri": "https://localhost:8080/"
        }
      },
      "source": [
        "num_epochs = 10\n",
        "history = model.fit(padded, training_labels_final, epochs=num_epochs, validation_data=(testing_padded, testing_labels_final))"
      ],
      "execution_count": null,
      "outputs": [
        {
          "output_type": "stream",
          "text": [
            "Epoch 1/10\n",
            "782/782 [==============================] - 148s 189ms/step - loss: 0.4777 - accuracy: 0.7673 - val_loss: 0.3916 - val_accuracy: 0.8286\n",
            "Epoch 2/10\n",
            "782/782 [==============================] - 145s 185ms/step - loss: 0.3395 - accuracy: 0.8565 - val_loss: 0.3751 - val_accuracy: 0.8319\n",
            "Epoch 3/10\n",
            "782/782 [==============================] - 146s 186ms/step - loss: 0.3049 - accuracy: 0.8742 - val_loss: 0.3610 - val_accuracy: 0.8389\n",
            "Epoch 4/10\n",
            "782/782 [==============================] - 150s 192ms/step - loss: 0.2827 - accuracy: 0.8852 - val_loss: 0.4022 - val_accuracy: 0.8203\n",
            "Epoch 5/10\n",
            "782/782 [==============================] - 145s 185ms/step - loss: 0.2643 - accuracy: 0.8945 - val_loss: 0.3844 - val_accuracy: 0.8367\n",
            "Epoch 6/10\n",
            "782/782 [==============================] - 144s 185ms/step - loss: 0.2449 - accuracy: 0.9034 - val_loss: 0.3915 - val_accuracy: 0.8278\n",
            "Epoch 7/10\n",
            "782/782 [==============================] - 144s 184ms/step - loss: 0.2277 - accuracy: 0.9110 - val_loss: 0.4001 - val_accuracy: 0.8306\n",
            "Epoch 8/10\n",
            "782/782 [==============================] - 145s 185ms/step - loss: 0.2094 - accuracy: 0.9214 - val_loss: 0.4622 - val_accuracy: 0.7962\n",
            "Epoch 9/10\n",
            "782/782 [==============================] - 145s 185ms/step - loss: 0.1936 - accuracy: 0.9288 - val_loss: 0.4262 - val_accuracy: 0.8254\n",
            "Epoch 10/10\n",
            "782/782 [==============================] - 145s 185ms/step - loss: 0.1745 - accuracy: 0.9360 - val_loss: 0.4936 - val_accuracy: 0.8188\n"
          ],
          "name": "stdout"
        }
      ]
    },
    {
      "cell_type": "code",
      "metadata": {
        "id": "O_VWP7BXI2o8"
      },
      "source": [
        "import matplotlib.pyplot as plt\n",
        "\n",
        "def plot_graphs(history, string):\n",
        "  plt.plot(history.history[string])\n",
        "  plt.plot(history.history['val_'+string])\n",
        "  plt.xlabel(\"Epochs\")\n",
        "  plt.ylabel(string)\n",
        "  plt.legend([string, 'val_'+string])\n",
        "  plt.show()"
      ],
      "execution_count": null,
      "outputs": []
    },
    {
      "cell_type": "code",
      "metadata": {
        "id": "Qs7dztCpnawM",
        "outputId": "222c8810-d99c-41bb-e83f-6567f09ac406",
        "colab": {
          "base_uri": "https://localhost:8080/",
          "height": 279
        }
      },
      "source": [
        "plot_graphs(history, 'accuracy')"
      ],
      "execution_count": null,
      "outputs": [
        {
          "output_type": "display_data",
          "data": {
            "image/png": "[encoded data removed]",
            "text/plain": [
              "<Figure size 432x288 with 1 Axes>"
            ]
          },
          "metadata": {
            "tags": [],
            "needs_background": "light"
          }
        }
      ]
    },
    {
      "cell_type": "code",
      "metadata": {
        "id": "-M0ZPltI37ZA",
        "outputId": "1145a59e-54f4-488d-ddd8-772ff9f4dbb4",
        "colab": {
          "base_uri": "https://localhost:8080/",
          "height": 279
        }
      },
      "source": [
        "plot_graphs(history, 'loss')"
      ],
      "execution_count": null,
      "outputs": [
        {
          "output_type": "display_data",
          "data": {
            "image/png": "[encoded data removed]",
            "text/plain": [
              "<Figure size 432x288 with 1 Axes>"
            ]
          },
          "metadata": {
            "tags": [],
            "needs_background": "light"
          }
        }
      ]
    },
    {
      "cell_type": "code",
      "metadata": {
        "id": "QB23rA5c6nC1"
      },
      "source": [
        ""
      ],
      "execution_count": null,
      "outputs": []
    }
  ]
}