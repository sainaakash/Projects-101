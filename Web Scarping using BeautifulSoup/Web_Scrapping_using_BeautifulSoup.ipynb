{
  "nbformat": 4,
  "nbformat_minor": 0,
  "metadata": {
    "colab": {
      "provenance": []
    },
    "kernelspec": {
      "name": "python3",
      "display_name": "Python 3"
    },
    "language_info": {
      "name": "python"
    }
  },
  "cells": [
    {
      "cell_type": "code",
      "metadata": {
        "id": "KuzOOUdm6dw5"
      },
      "source": [
        "import bs4\n",
        "from urllib.request import urlopen\n",
        "from bs4 import BeautifulSoup as soup"
      ],
      "execution_count": null,
      "outputs": []
    },
    {
      "cell_type": "code",
      "metadata": {
        "id": "FtE2KqWi5r0w"
      },
      "source": [
        "url = \"https://www.newegg.com/global/in-en/Desktop-Graphics-Cards/SubCategory/ID-48?Tid=1300354\"\n",
        "client = urlopen(url)"
      ],
      "execution_count": null,
      "outputs": []
    },
    {
      "cell_type": "code",
      "metadata": {
        "id": "bX38qExd6xiV"
      },
      "source": [
        "page_html = client.read()"
      ],
      "execution_count": null,
      "outputs": []
    },
    {
      "cell_type": "code",
      "metadata": {
        "id": "seQfdAus64OJ"
      },
      "source": [
        "client.close()"
      ],
      "execution_count": null,
      "outputs": []
    },
    {
      "cell_type": "code",
      "metadata": {
        "id": "xuLFJYEH6-Ky"
      },
      "source": [
        "page_soup = soup(page_html, \"html.parser\")"
      ],
      "execution_count": null,
      "outputs": []
    },
    {
      "cell_type": "code",
      "metadata": {
        "colab": {
          "base_uri": "https://localhost:8080/"
        },
        "id": "FhL5Ne457Plg",
        "outputId": "846b8ec9-2a3c-4b80-f68f-12820e7dc6ca"
      },
      "source": [
        "page_soup.h1"
      ],
      "execution_count": null,
      "outputs": [
        {
          "output_type": "execute_result",
          "data": {
            "text/plain": [
              "<h1 class=\"page-title-text\">Desktop Graphics Cards</h1>"
            ]
          },
          "metadata": {
            "tags": []
          },
          "execution_count": 9
        }
      ]
    },
    {
      "cell_type": "code",
      "metadata": {
        "colab": {
          "base_uri": "https://localhost:8080/"
        },
        "id": "Qc6PFWmJ7RXl",
        "outputId": "71ad0634-a94a-440e-fb08-3e22e8c87ef8"
      },
      "source": [
        "page_soup.p"
      ],
      "execution_count": null,
      "outputs": [
        {
          "output_type": "execute_result",
          "data": {
            "text/plain": [
              "<p>Eligible for Free Shipping</p>"
            ]
          },
          "metadata": {
            "tags": []
          },
          "execution_count": 14
        }
      ]
    },
    {
      "cell_type": "code",
      "metadata": {
        "colab": {
          "base_uri": "https://localhost:8080/"
        },
        "id": "21JINFK27Y2_",
        "outputId": "384139e1-1e17-462f-ee01-09c464a695ba"
      },
      "source": [
        "page_soup.body.span"
      ],
      "execution_count": null,
      "outputs": [
        {
          "output_type": "execute_result",
          "data": {
            "text/plain": [
              "<span class=\"hid-text\">Search</span>"
            ]
          },
          "metadata": {
            "tags": []
          },
          "execution_count": 15
        }
      ]
    },
    {
      "cell_type": "code",
      "metadata": {
        "id": "YoS9CF7t7r46"
      },
      "source": [
        "containers = page_soup.findAll('div', {'class':'item-container'})"
      ],
      "execution_count": null,
      "outputs": []
    },
    {
      "cell_type": "code",
      "metadata": {
        "colab": {
          "base_uri": "https://localhost:8080/"
        },
        "id": "2VI5QuRx8O1X",
        "outputId": "d57b9782-99fb-46d8-bfa9-0d813e7d434a"
      },
      "source": [
        "len(containers)"
      ],
      "execution_count": null,
      "outputs": [
        {
          "output_type": "execute_result",
          "data": {
            "text/plain": [
              "36"
            ]
          },
          "metadata": {
            "tags": []
          },
          "execution_count": 18
        }
      ]
    },
    {
      "cell_type": "code",
      "metadata": {
        "colab": {
          "base_uri": "https://localhost:8080/"
        },
        "id": "Qa0_8LMy8ZNv",
        "outputId": "c78a6779-7a6d-45e1-c69b-56cdfec2e836"
      },
      "source": [
        "containers[0]"
      ],
      "execution_count": null,
      "outputs": [
        {
          "output_type": "execute_result",
          "data": {
            "text/plain": [
              "<div class=\"item-container\"><a class=\"item-img\" href=\"https://www.newegg.com/global/in-en/asus-geforce-rtx-3080-ti-tuf-rtx3080ti-o12g-gaming/p/N82E16814126509\"><img alt=\"ASUS TUF Gaming GeForce RTX 3080 Ti 12GB GDDR6X PCI Express 4.0 x16 Video Card TUF-RTX3080TI-O12G-GAMING\" src=\"https://c1.neweggimages.com/ProductImageCompressAll300/14-126-509-V05.jpg\" title=\"ASUS TUF Gaming GeForce RTX 3080 Ti 12GB GDDR6X PCI Express 4.0 x16 Video Card TUF-RTX3080TI-O12G-GAMING\"/></a><div class=\"item-info\"><div class=\"item-branding\"><a class=\"item-brand\" href=\"https://www.newegg.com/global/in-en/ASUS/BrandStore/ID-1315\"><img alt=\"ASUS\" src=\"https://c1.neweggimages.com/Brandimage_70x28/Brand1315.gif\" title=\"ASUS\"/></a><a class=\"item-rating\" href=\"https://www.newegg.com/global/in-en/asus-geforce-rtx-3080-ti-tuf-rtx3080ti-o12g-gaming/p/N82E16814126509?IsFeedbackTab=true#scrollFullInfo\" title=\"Rating + 5\"><i class=\"rating rating-5\"></i><span class=\"item-rating-num\">(11)</span></a></div><a class=\"item-title\" href=\"https://www.newegg.com/global/in-en/asus-geforce-rtx-3080-ti-tuf-rtx3080ti-o12g-gaming/p/N82E16814126509\" title=\"View Details\">ASUS TUF Gaming GeForce RTX 3080 Ti 12GB GDDR6X PCI Express 4.0 x16 Video Card TUF-RTX3080TI-O12G-GAMING</a><ul class=\"item-features\"><li><strong>Max Resolution:</strong> 7680 x 4320</li><li><strong>DisplayPort:</strong> 3 x DisplayPort 1.4a</li><li><strong>HDMI:</strong> 2 x HDMI 2.1</li><li><strong>Card Dimensions (L x H):</strong> 11.81\" x 5.00\"</li><li><strong>Model #: </strong>TUF-RTX3080TI-O12G-G</li><li><strong>Item #: </strong>9SIAPBUEUY6282</li><li><strong>Return Policy: </strong><a href=\"https://www.newegg.com/global/in-en/Seller-Store/Millennials-Boy/about\" target=\"_blank\" title=\"View Return Policy(new window)\">View Return Policy</a></li></ul></div><div class=\"item-action\"><ul class=\"price\"><li class=\"price-was\"></li><li class=\"price-map\"> </li><li class=\"price-current \">₹ 233,581<!-- --> <span class=\"price-current-range\"><abbr title=\"to\">–</abbr></span></li><li class=\"price-save \"></li><li class=\"price-ship\">Special Shipping</li></ul><div class=\"item-operate\"><div class=\"item-button-area\"><button class=\"btn btn-primary btn-mini\" title=\"Add ASUS TUF Gaming GeForce RTX 3080 Ti 12GB GDDR6X PCI Express 4.0 x16 Video Card TUF-RTX3080TI-O12G-GAMING to cart\">Add to cart <i class=\"fas fa-caret-right\"></i></button></div><div class=\"item-compare-box\"><label class=\"form-checkbox\"><input autocomplete=\"off\" type=\"checkbox\"/><span class=\"form-checkbox-title\">Compare</span></label></div></div></div><div class=\"item-stock\" id=\"stock_9SIAPBUEUY6282\"></div></div>"
            ]
          },
          "metadata": {
            "tags": []
          },
          "execution_count": 19
        }
      ]
    },
    {
      "cell_type": "markdown",
      "metadata": {
        "id": "3R2gdXac-ukf"
      },
      "source": [
        "product name\n",
        "\n",
        "brand -> title\n",
        "\n",
        "try and catch for those product\n",
        "\n",
        "don't have ratings\n",
        "\n",
        "shipping to see how much each they cost"
      ]
    },
    {
      "cell_type": "code",
      "metadata": {
        "colab": {
          "base_uri": "https://localhost:8080/",
          "height": 35
        },
        "id": "fRn_KQXI8dM2",
        "outputId": "e321a324-5296-4029-9f33-065fd2e31885"
      },
      "source": [
        "containers[0].div.div.a.img['title']"
      ],
      "execution_count": null,
      "outputs": [
        {
          "output_type": "execute_result",
          "data": {
            "application/vnd.google.colaboratory.intrinsic+json": {
              "type": "string"
            },
            "text/plain": [
              "'ASUS'"
            ]
          },
          "metadata": {
            "tags": []
          },
          "execution_count": 23
        }
      ]
    },
    {
      "cell_type": "code",
      "metadata": {
        "colab": {
          "base_uri": "https://localhost:8080/"
        },
        "id": "SDWCdWTQ_v8z",
        "outputId": "ea93ad73-f922-44b7-e80b-c7210fb1f3d5"
      },
      "source": [
        "containers[0].findAll('a', {'class':'item-title'})"
      ],
      "execution_count": null,
      "outputs": [
        {
          "output_type": "execute_result",
          "data": {
            "text/plain": [
              "[<a class=\"item-title\" href=\"https://www.newegg.com/global/in-en/asus-geforce-rtx-3080-ti-tuf-rtx3080ti-o12g-gaming/p/N82E16814126509\" title=\"View Details\">ASUS TUF Gaming GeForce RTX 3080 Ti 12GB GDDR6X PCI Express 4.0 x16 Video Card TUF-RTX3080TI-O12G-GAMING</a>]"
            ]
          },
          "metadata": {
            "tags": []
          },
          "execution_count": 24
        }
      ]
    },
    {
      "cell_type": "code",
      "metadata": {
        "colab": {
          "base_uri": "https://localhost:8080/",
          "height": 52
        },
        "id": "bMP4VigvAi7R",
        "outputId": "ae1fbaa0-db69-48a2-e7c1-598148c66ada"
      },
      "source": [
        "containers[0].findAll('a', {'class':'item-title'})[0].text"
      ],
      "execution_count": null,
      "outputs": [
        {
          "output_type": "execute_result",
          "data": {
            "application/vnd.google.colaboratory.intrinsic+json": {
              "type": "string"
            },
            "text/plain": [
              "'ASUS TUF Gaming GeForce RTX 3080 Ti 12GB GDDR6X PCI Express 4.0 x16 Video Card TUF-RTX3080TI-O12G-GAMING'"
            ]
          },
          "metadata": {
            "tags": []
          },
          "execution_count": 25
        }
      ]
    },
    {
      "cell_type": "code",
      "metadata": {
        "colab": {
          "base_uri": "https://localhost:8080/",
          "height": 35
        },
        "id": "IIAj7qOAA47W",
        "outputId": "c1b9f311-3507-4378-8469-8bb930c9e471"
      },
      "source": [
        " containers[0].findAll('li', {'class':'price-ship'})[0].text.strip() #strip will remove all the white space before or after the text, it will remove new lines as well"
      ],
      "execution_count": null,
      "outputs": [
        {
          "output_type": "execute_result",
          "data": {
            "application/vnd.google.colaboratory.intrinsic+json": {
              "type": "string"
            },
            "text/plain": [
              "'Special Shipping'"
            ]
          },
          "metadata": {
            "tags": []
          },
          "execution_count": 27
        }
      ]
    },
    {
      "cell_type": "code",
      "metadata": {
        "colab": {
          "base_uri": "https://localhost:8080/"
        },
        "id": "FSEMCzBp_R4n",
        "outputId": "1dc22e1b-ddc5-49da-b1dd-d3ec07d1c868"
      },
      "source": [
        "for con in containers:\n",
        "  brand = con.div.div.a.img['title']\n",
        "  title_container =  con.findAll('a', {'class':'item-title'})\n",
        "  product_name =  title_container[0].text\n",
        "\n",
        "  shipping_container = con.findAll('li', {'class':'price-ship'})\n",
        "  shipping = shipping_container[0].text.strip()\n",
        "\n",
        "  print(\"brand: \" + brand)\n",
        "  print(\"product_name: \" + product_name)\n",
        "  print(\"shipping: \" + shipping)\n",
        "  print(\"\\n\")"
      ],
      "execution_count": null,
      "outputs": [
        {
          "output_type": "stream",
          "text": [
            "brand: ASUS\n",
            "product_name: ASUS TUF Gaming GeForce RTX 3080 Ti 12GB GDDR6X PCI Express 4.0 x16 Video Card TUF-RTX3080TI-O12G-GAMING\n",
            "shipping: Special Shipping\n",
            "\n",
            "\n",
            "brand: ASUS\n",
            "product_name: ASUS GeForce RTX 2060 Overclocked 6G GDDR6 Dual-Fan EVO Edition VR Ready HDMI DisplayPort DVI Graphics Card (DUAL-RTX2060-O6G-EVO)\n",
            "shipping: ₹ 11,775 Shipping\n",
            "\n",
            "\n",
            "brand: ASUS\n",
            "product_name: ASUS ROG STRIX GeForce RTX 3080 Ti 12GB GDDR6X PCI Express 4.0 x16 Video Card ROG-STRIX-RTX3080TI-O12G-GAMING\n",
            "shipping: ₹ 47,103 Shipping\n",
            "\n",
            "\n",
            "brand: GIGABYTE\n",
            "product_name: GIGABYTE GeForce GTX 1650 4GB GDDR6 PCI Express 3.0 x16 ATX Video Card GV-N1656WF2OC-4GD\n",
            "shipping: Free Shipping\n",
            "\n",
            "\n",
            "brand: GIGABYTE\n",
            "product_name: GIGABYTE GeForce GTX 1650 OC 4G Graphics Card, 2 x WINDFORCE Fans, 4GB 128-Bit GDDR5, GV-N1650OC-4GD Video Card\n",
            "shipping: Est. Shipping Fee ₹ 3,517\n",
            "\n",
            "\n",
            "brand: MSI\n",
            "product_name: MSI Gaming GeForce GTX 1660 SUPER 6GB GDDR6 PCI Express 3.0 x16 Video Card GTX 1660 SUPER GAMING X\n",
            "shipping: ₹ 11,775 Shipping\n",
            "\n",
            "\n",
            "brand: GIGABYTE\n",
            "product_name: GIGABYTE GeForce GTX 1660 Ti OC 6G Graphics Card, 2 x WINDFORCE Fans, 6GB 192-Bit GDDR6, GV-N166TOC-6GD Video Card\n",
            "shipping: ₹ 11,775 Shipping\n",
            "\n",
            "\n",
            "brand: ASRock\n",
            "product_name: ASRock OC Formula Radeon RX 6900 XT 16GB GDDR6 PCI Express 4.0 x16 ATX Video Card RX6900XT OCF 16G\n",
            "shipping: ₹ 5,152 Shipping\n",
            "\n",
            "\n",
            "brand: GIGABYTE\n",
            "product_name: GIGABYTE GeForce GTX 1660 OC 6G Graphics Card, 2 x WINDFORCE Fans, 6GB 192-Bit GDDR5, GV-N1660OC-6GD Video Card\n",
            "shipping: ₹ 11,775 Shipping\n",
            "\n",
            "\n",
            "brand: GIGABYTE\n",
            "product_name: GIGABYTE Geforce RTX 2060 OC 6G Graphics Card, 2 x WINDFORCE Fans, 6GB 192-Bit GDDR6, GV-N2060OC-6GD Video Card\n",
            "shipping: ₹ 11,775 Shipping\n",
            "\n",
            "\n",
            "brand: Sapphire Tech\n",
            "product_name: SAPPHIRE Radeon RX 550 DirectX 12 100414P2GL 2GB 128-Bit GDDR5 Video Card\n",
            "shipping: ₹ 2,943 Shipping\n",
            "\n",
            "\n",
            "brand: GIGABYTE\n",
            "product_name: GIGABYTE Radeon RX 6700 XT GAMING OC 12G Graphics Card, WINDFORCE 3X Cooling System, 12GB 192-bit GDDR6, GV-R67XTGAMING OC-12GD Video Card\n",
            "shipping: ₹ 3,507 Shipping\n",
            "\n",
            "\n",
            "brand: ASUS\n",
            "product_name: ASUS GeForce GT 1030 2GB Phoenix Fan OC Edition HDMI DVI Graphics Card (PH-GT1030-O2G)\n",
            "shipping: ₹ 2,943 Shipping\n",
            "\n",
            "\n",
            "brand: Sapphire Tech\n",
            "product_name: Sapphire Nitro+ AMD Radeon RX 6700 XT Gaming OC Video Card, 12GB GDDR6 HDMI / Triple DP (11306-01-20T)\n",
            "shipping: Special Shipping\n",
            "\n",
            "\n",
            "brand: MSI\n",
            "product_name: MSI GeForce RTX 2070 SUPER 8GB GDDR6 PCI Express 3.0 x16 SLI Support Video Card RTX 2070 SUPER GAMING X TRIO\n",
            "shipping: Free Shipping\n",
            "\n",
            "\n",
            "brand: XFX\n",
            "product_name: XFX SPEEDSTER MERC319 AMD Radeon RX 6700 XT BLACK Gaming Graphics Card with 12GB GDDR6 HDMI 3xDP, AMD RDNA 2 (RX-67XTYTBDP)\n",
            "shipping: ₹ 5,204 Shipping\n",
            "\n",
            "\n",
            "brand: ASUS\n",
            "product_name: ASUS Cerberus GeForce GTX 1050 Ti 4GB GDDR5 Gaming Graphics Card, CERBERUS-GTX1050TI-A4G\n",
            "shipping: ₹ 5,887 Shipping\n",
            "\n",
            "\n",
            "brand: GIGABYTE\n",
            "product_name: GIGABYTE GeForce GTX 1650 4GB GDDR6 PCI Express 3.0 x16 Low Profile Ready Video Card GV-N1656OC-4GL\n",
            "shipping: ₹ 5,887 Shipping\n",
            "\n",
            "\n",
            "brand: GIGABYTE\n",
            "product_name: GIGABYTE GeForce RTX 2060 OC GG Graphics Card, 2X Windforce Fans, 6GB 192-bit GDDR6, Gv-N2060OC-6GD REV2.0 Video Card\n",
            "shipping: ₹ 11,775 Shipping\n",
            "\n",
            "\n",
            "brand: GIGABYTE\n",
            "product_name: GIGABYTE GeForce GTX 1050 Ti 4GB GDDR5 PCI Express 3.0 x16 ATX Video Cards GV-N105TOC-4GD\n",
            "shipping: ₹ 5,887 Shipping\n",
            "\n",
            "\n",
            "brand: MSI\n",
            "product_name: MSI Ventus GeForce GTX 1650 4GB GDDR6 PCI Express 3.0 x16 Video Card GTX 1650 D6 Ventus XS OC\n",
            "shipping: Special Shipping\n",
            "\n",
            "\n",
            "brand: MSI\n",
            "product_name: MSI GeForce GTX 1050 Ti 4GB GDDR5 PCI Express 3.0 x16 ATX Video Card GTX 1050 Ti 4GT OC\n",
            "shipping: Free Shipping\n",
            "\n",
            "\n",
            "brand: GIGABYTE\n",
            "product_name: GIGABYTE GeForce GTX 1660 SUPER 6GB GDDR6 PCI Express 3.0 x16 ATX Video Card GV-N166SOC-6GD\n",
            "shipping: ₹ 11,775 Shipping\n",
            "\n",
            "\n",
            "brand: Sapphire Tech\n",
            "product_name: SAPPHIRE Radeon RX 550 DirectX 12 100414P4GL 4GB 128-Bit GDDR5 Video Card\n",
            "shipping: ₹ 2,943 Shipping\n",
            "\n",
            "\n",
            "brand: PowerColor\n",
            "product_name: PowerColor Red Devil AMD Radeon RX 6700 XT Gaming Graphics Card with 12GB GDDR6 Memory, Powered by AMD RDNA 2, HDMI 2.1 (AXRX 6700XT 12GBD6-3DHE/OC)\n",
            "shipping: ₹ 4,718 Shipping\n",
            "\n",
            "\n",
            "brand: ASUS\n",
            "product_name: ASUS TUF Gaming GeForce GTX 1650 4GB GDDR6 PCI Express 3.0 Video Card TUF-GTX1650-O4GD6-P-GAMING\n",
            "shipping: ₹ 5,887 Shipping\n",
            "\n",
            "\n",
            "brand: GIGABYTE\n",
            "product_name: GIGABYTE GeForce RTX 2060 6GB GDDR6 PCI Express 3.0 x16 ATX Video Card GV-N2060WF2OC-6GD R2\n",
            "shipping: Special Shipping\n",
            "\n",
            "\n",
            "brand: ASUS\n",
            "product_name: ASUS TUF Gaming GeForce GTX 1650 SUPER Overclocked 4GB Edition HDMI DP DVI Gaming Graphics Card (TUF-GTX1650S-O4G-GAMING)\n",
            "shipping: Free Shipping\n",
            "\n",
            "\n",
            "brand: XFX\n",
            "product_name: XFX SPEEDSTER MERC319 AMD Radeon RX 6900XT LIMITED BLACK Gaming Graphics Card with 16GB GDDR6, AMD RDNA 2, RX-69XTACSD9\n",
            "shipping: Free Shipping\n",
            "\n",
            "\n",
            "brand: GIGABYTE\n",
            "product_name: GIGABYTE GeForce GTX 1650 4GB GDDR6 PCI Express 3.0 x16 ATX Video Card GV-N1656WF2OC-4GD (rev. 2.0)\n",
            "shipping: ₹ 5,887 Shipping\n",
            "\n",
            "\n",
            "brand: ASUS\n",
            "product_name: Asus TUF Gaming GeForce GTX 1650 Super Overclocked 4GB Edition HDMI DP DVI Gaming Graphics Card (TUF-GTX1650S-O4G-GAMING)\n",
            "shipping: Special Shipping\n",
            "\n",
            "\n",
            "brand: ASRock\n",
            "product_name: ASRock Radeon RX 6700 XT Phantom Gaming D Graphic Card, 12GB GDDR6 VRAM, AMD RDNA2 (RX6700XT PGD 12GO)\n",
            "shipping: ₹ 4,615 Shipping\n",
            "\n",
            "\n",
            "brand: GIGABYTE\n",
            "product_name: GIGABYTE GeForce GT 1030 Low Profile D4 2G DirectX 12 GV-N1030D4-2GL Video Card\n",
            "shipping: Est. Shipping Fee ₹ 3,487\n",
            "\n",
            "\n",
            "brand: GIGABYTE\n",
            "product_name: GIGABYTE AORUS Radeon RX 6900 XT 16GB GDDR6 PCI Express 4.0 x16 ATX Video Card GV-R69XTAORUSX WB-16GD\n",
            "shipping: Free Shipping\n",
            "\n",
            "\n",
            "brand: MSI\n",
            "product_name: MSI Ventus GeForce GTX 1650 4GB GDDR6 PCI Express 3.0 x16 Video Card GTX 1650 D6 VENTUS XS OCV1\n",
            "shipping: ₹ 5,887 Shipping\n",
            "\n",
            "\n",
            "brand: GIGABYTE\n",
            "product_name: GIGABYTE GeForce GTX 1050 Ti 4GB GDDR5 PCI Express 3.0 x16 ATX Video Cards GV-N105TD5-4GD\n",
            "shipping: ₹ 5,887 Shipping\n",
            "\n",
            "\n"
          ],
          "name": "stdout"
        }
      ]
    },
    {
      "cell_type": "code",
      "metadata": {
        "colab": {
          "base_uri": "https://localhost:8080/"
        },
        "id": "35TyQ8nLCbvp",
        "outputId": "d7f44fc0-d071-4715-813d-b15f3d5d3346"
      },
      "source": [
        "filename = \"desktop graphics cards.csv\"\n",
        "f = open(filename,'w')\n",
        "\n",
        "headers = \"brand, product_name, shipping\\n\"\n",
        "\n",
        "f.write(headers)"
      ],
      "execution_count": null,
      "outputs": [
        {
          "output_type": "execute_result",
          "data": {
            "text/plain": [
              "30"
            ]
          },
          "metadata": {
            "tags": []
          },
          "execution_count": 39
        }
      ]
    },
    {
      "cell_type": "code",
      "metadata": {
        "id": "Rp2243LrEB2f"
      },
      "source": [
        "for con in containers:\n",
        "  brand = con.div.div.a.img['title']\n",
        "  title_container =  con.findAll('a', {'class':'item-title'})\n",
        "  product_name =  title_container[0].text\n",
        "\n",
        "  shipping_container = con.findAll('li', {'class':'price-ship'})\n",
        "  shipping = shipping_container[0].text.strip()\n",
        "\n",
        "  f.write(brand + \", \" + product_name.replace(\",\", \"|\") + \",\" + shipping + \"\\n\")\n",
        "\n",
        "f.close()"
      ],
      "execution_count": null,
      "outputs": []
    },
    {
      "cell_type": "code",
      "metadata": {
        "id": "kJ1cWdM5EcMm"
      },
      "source": [
        ""
      ],
      "execution_count": null,
      "outputs": []
    }
  ]
}