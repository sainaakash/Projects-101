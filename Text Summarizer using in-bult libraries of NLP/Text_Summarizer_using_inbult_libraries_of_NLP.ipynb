{
  "nbformat": 4,
  "nbformat_minor": 0,
  "metadata": {
    "colab": {
      "provenance": [],
      "authorship_tag": "ABX9TyNsjCkkJbVibzcE9q25FdtC",
      "include_colab_link": true
    },
    "kernelspec": {
      "name": "python3",
      "display_name": "Python 3"
    },
    "language_info": {
      "name": "python"
    }
  },
  "cells": [
    {
      "cell_type": "markdown",
      "metadata": {
        "id": "view-in-github",
        "colab_type": "text"
      },
      "source": [
        "<a href=\"https://colab.research.google.com/github/sainaakash/Projects/blob/master/Text_Summarizer_using_inbult_libraries.ipynb\" target=\"_parent\"><img src=\"https://colab.research.google.com/assets/colab-badge.svg\" alt=\"Open In Colab\"/></a>"
      ]
    },
    {
      "cell_type": "code",
      "source": [
        "pip install newspaper3k"
      ],
      "metadata": {
        "id": "iW2tT8_Cw152"
      },
      "execution_count": null,
      "outputs": []
    },
    {
      "cell_type": "code",
      "source": [
        "import tkinter as tk\n",
        "import nltk\n",
        "from textblob import TextBlob\n",
        "from newspaper import Article"
      ],
      "metadata": {
        "id": "Zw_dKH7sw1oZ"
      },
      "execution_count": 14,
      "outputs": []
    },
    {
      "cell_type": "code",
      "source": [
        "nltk.download('punkt')"
      ],
      "metadata": {
        "colab": {
          "base_uri": "https://localhost:8080/"
        },
        "id": "eKusfg34w_Uw",
        "outputId": "8d174dcd-823b-4595-d1d6-e016639788b0"
      },
      "execution_count": 15,
      "outputs": [
        {
          "output_type": "stream",
          "name": "stderr",
          "text": [
            "[nltk_data] Downloading package punkt to /root/nltk_data...\n",
            "[nltk_data]   Package punkt is already up-to-date!\n"
          ]
        },
        {
          "output_type": "execute_result",
          "data": {
            "text/plain": [
              "True"
            ]
          },
          "metadata": {},
          "execution_count": 15
        }
      ]
    },
    {
      "cell_type": "code",
      "source": [
        "url = 'https://edition.cnn.com/2023/09/15/asia/kim-jong-un-north-korea-russia-komsomolsk-intl-hnk/index.html'"
      ],
      "metadata": {
        "id": "En6QZSoDxBuY"
      },
      "execution_count": 16,
      "outputs": []
    },
    {
      "cell_type": "code",
      "source": [
        "article = Article(url)\n",
        "\n",
        "article.download()\n",
        "article.parse()\n",
        "\n",
        "article.nlp()"
      ],
      "metadata": {
        "id": "HeL7fY09xEhF"
      },
      "execution_count": 17,
      "outputs": []
    },
    {
      "cell_type": "code",
      "source": [
        "print(f'Title: {article.title}')"
      ],
      "metadata": {
        "colab": {
          "base_uri": "https://localhost:8080/"
        },
        "id": "2XnkXSnixEaB",
        "outputId": "ec002969-97e4-4133-c811-e3c8c49f9ead"
      },
      "execution_count": 18,
      "outputs": [
        {
          "output_type": "stream",
          "name": "stdout",
          "text": [
            "Title: Komsomolsk-on-Amur: Kim Jong Un visits fighter jet plant in Russia as Putin accepts invite to North Korea\n"
          ]
        }
      ]
    },
    {
      "cell_type": "code",
      "source": [
        "print(f'Author: {article.authors}')"
      ],
      "metadata": {
        "colab": {
          "base_uri": "https://localhost:8080/"
        },
        "id": "yQp2Cy376n4Q",
        "outputId": "d33ef643-1251-43fe-8ba6-8685e727ab51"
      },
      "execution_count": 19,
      "outputs": [
        {
          "output_type": "stream",
          "name": "stdout",
          "text": [
            "Author: ['Helen Regan Mariya Knight Anna Chernova Akanksha Sharma Rob Picheta', 'Helen Regan', 'Mariya Knight', 'Anna Chernova', 'Akanksha Sharma', 'Rob Picheta']\n"
          ]
        }
      ]
    },
    {
      "cell_type": "code",
      "source": [
        "print(f'Publication Date: {article.publish_date}')"
      ],
      "metadata": {
        "colab": {
          "base_uri": "https://localhost:8080/"
        },
        "id": "i2KWTcta6nuF",
        "outputId": "d3bbdcfc-7b19-431a-d1db-da4a68983c56"
      },
      "execution_count": 20,
      "outputs": [
        {
          "output_type": "stream",
          "name": "stdout",
          "text": [
            "Publication Date: 2023-09-15 00:00:00\n"
          ]
        }
      ]
    },
    {
      "cell_type": "code",
      "source": [
        "print(f'Summary: {article.summary}')"
      ],
      "metadata": {
        "colab": {
          "base_uri": "https://localhost:8080/"
        },
        "id": "nNfRNmVw6nja",
        "outputId": "10f70b4b-4d37-44c5-eb6d-30b663c5a52f"
      },
      "execution_count": 21,
      "outputs": [
        {
          "output_type": "stream",
          "name": "stdout",
          "text": [
            "Summary: The national security advisers of the United States, South Korea, and Japan on Thursday jointly issued a warning regarding potential violations of international sanctions by North Korea and Russia.\n",
            "Kim visited an aircraft plant in the eastern city of Komsomolsk-on-Amur on Friday, according to Russian state media.\n",
            "At a state banquet with Putin Wednesday, Kim vowed to establish “a new era of 100-year friendship” between the two countries.\n",
            "In return, Putin signaled a willingness to assist North Korea in developing its space and satellite program.\n",
            "Ukraine’s Defense Intelligence said Wednesday that military cooperation between Russia and North Korea was not new.\n"
          ]
        }
      ]
    },
    {
      "cell_type": "code",
      "source": [
        "analysis = TextBlob(article.text)"
      ],
      "metadata": {
        "id": "BBdlm2ykxp0S"
      },
      "execution_count": 22,
      "outputs": []
    },
    {
      "cell_type": "code",
      "source": [
        "print(analysis.polarity)\n",
        "print(f'Sentiment: {\"Positive\" if analysis.polarity > 0 else \"Negative\" if analysis.polarity < 0 else \"Neutral\"}')"
      ],
      "metadata": {
        "colab": {
          "base_uri": "https://localhost:8080/"
        },
        "id": "q0BCGWdC6G76",
        "outputId": "9261d595-0125-43e0-83ef-a9d5b18d164f"
      },
      "execution_count": 23,
      "outputs": [
        {
          "output_type": "stream",
          "name": "stdout",
          "text": [
            "0.020394882894882886\n",
            "Sentiment: Positive\n"
          ]
        }
      ]
    },
    {
      "cell_type": "code",
      "source": [],
      "metadata": {
        "id": "hUr2NDV06bU6"
      },
      "execution_count": 23,
      "outputs": []
    }
  ]
}